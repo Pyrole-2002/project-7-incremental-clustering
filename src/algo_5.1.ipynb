{
 "cells": [
  {
   "cell_type": "markdown",
   "metadata": {},
   "source": [
    "### An incremental algorithm can find nice $k$-clusterings if allowed $2^k$ centers"
   ]
  },
  {
   "cell_type": "code",
   "execution_count": 3,
   "metadata": {},
   "outputs": [],
   "source": [
    "# import libraries\n",
    "import pandas as pd\n",
    "import numpy as np\n",
    "import seaborn as sns\n",
    "import matplotlib.pyplot as plt\n",
    "%matplotlib inline\n",
    "from sklearn.decomposition import PCA\n",
    "from scipy.cluster.hierarchy import linkage, fcluster\n"
   ]
  },
  {
   "cell_type": "code",
   "execution_count": 86,
   "metadata": {},
   "outputs": [],
   "source": [
    "# unique nice clustering dataset\n",
    "def unique_nice_clustered_data(k=4, dim=2, cluster_size=25, seed=42):\n",
    "    np.random.seed(seed)\n",
    "    data = np.zeros((cluster_size * k, dim))\n",
    "    for k_i in range(1, k+1):\n",
    "        center = np.array([np.random.uniform(5*k_i, 15*k_i) for i in range(dim)])\n",
    "        # generate cluster_size points centered around center\n",
    "        data[(k_i - 1) * cluster_size:k_i * cluster_size, :] = center + np.random.randn(cluster_size, dim)\n",
    "    return data\n"
   ]
  },
  {
   "cell_type": "code",
   "execution_count": 122,
   "metadata": {},
   "outputs": [
    {
     "name": "stdout",
     "output_type": "stream",
     "text": [
      "[[ 9.39308973 16.03017292]\n",
      " [ 8.51124781 14.27300611]\n",
      " [10.324614   15.27457779]\n",
      " [ 8.2759268  15.04970311]\n",
      " [ 8.2819835  14.04141331]\n",
      " [ 8.98736346 12.59386282]\n",
      " [ 7.02048336 13.94485553]\n",
      " [ 7.73257007 14.8213904 ]\n",
      " [ 7.83737711 13.09483936]\n",
      " [10.21104996 14.28136676]\n",
      " [13.44909292 20.39561136]\n",
      " [12.84248207 20.66038679]\n",
      " [13.39283695 19.99299502]\n",
      " [13.39176903 22.13696695]\n",
      " [13.97997842 19.22697784]\n",
      " [14.81602056 19.06384512]\n",
      " [14.20233924 18.32501864]\n",
      " [12.66528959 20.48155   ]\n",
      " [14.73194222 20.45605705]\n",
      " [13.87782736 19.98358507]\n",
      " [26.19967992 24.19759318]\n",
      " [27.00393698 21.3774308 ]\n",
      " [26.98440266 22.75538867]\n",
      " [25.98339669 23.75214724]\n",
      " [27.69131821 24.07175107]\n",
      " [25.82110117 22.83125858]\n",
      " [26.99158212 24.11601608]\n",
      " [26.18114445 22.95481198]\n",
      " [25.55398372 21.94426433]\n",
      " [27.47284451 24.49671098]\n",
      " [55.85014573 38.24347725]\n",
      " [55.84990531 40.42663357]\n",
      " [55.45268366 40.45324066]\n",
      " [52.8687646  39.71049951]\n",
      " [55.57555677 38.58958966]\n",
      " [55.58027048 36.90102809]\n",
      " [55.26883782 39.24570958]\n",
      " [56.96640375 38.37032679]\n",
      " [54.6800161  38.38683996]\n",
      " [56.40391182 39.21734812]]\n"
     ]
    },
    {
     "data": {
      "image/png": "[encoded data removed]",
      "text/plain": [
       "<Figure size 640x480 with 1 Axes>"
      ]
     },
     "metadata": {},
     "output_type": "display_data"
    }
   ],
   "source": [
    "X = unique_nice_clustered_data(k=4, dim=2, cluster_size=10, seed=42)\n",
    "print(X)\n",
    "plt.scatter(X[:, 0], X[:, 1], s=5)\n",
    "plt.show()\n"
   ]
  },
  {
   "cell_type": "code",
   "execution_count": 127,
   "metadata": {},
   "outputs": [],
   "source": [
    "class IncrClustering():\n",
    "    def __init__(self, k, random_state=42):\n",
    "        self.k = k\n",
    "        self.centroids = None\n",
    "        self.cluster_counts = None\n",
    "        np.random.seed(random_state)\n",
    "    def Candidates(self, S):\n",
    "        # S is set of points in X\n",
    "        # run single linkage on S to get a tree\n",
    "        # assign each leaf node the corresponding data point\n",
    "        # move bottom-up, assign each internal node the datapoint in one of its children\n",
    "        # return all points at a distance < k from the root\n",
    "\n",
    "        # Run single linkage on S to get a tree\n",
    "        Z = linkage(S, method='single', metric='euclidean')\n",
    "\n",
    "        # Get cluster assignments\n",
    "        clusters = fcluster(Z, t=self.k, criterion='distance')\n",
    "\n",
    "        # Get the root node (the first cluster)\n",
    "        root = clusters[0]\n",
    "\n",
    "        # Return all points at a depth < k from the root\n",
    "        return [point for point, cluster in zip(S, clusters) if cluster == root or Z[cluster - 1, 2] <self.k]\n"
   ]
  },
  {
   "cell_type": "code",
   "execution_count": 128,
   "metadata": {},
   "outputs": [
    {
     "name": "stdout",
     "output_type": "stream",
     "text": [
      "[array([ 9.39308973, 16.03017292]), array([ 8.51124781, 14.27300611]), array([10.324614  , 15.27457779]), array([ 8.2759268 , 15.04970311]), array([ 8.2819835 , 14.04141331]), array([ 8.98736346, 12.59386282]), array([ 7.02048336, 13.94485553]), array([ 7.73257007, 14.8213904 ]), array([ 7.83737711, 13.09483936]), array([10.21104996, 14.28136676]), array([13.44909292, 20.39561136]), array([12.84248207, 20.66038679]), array([13.39283695, 19.99299502]), array([13.39176903, 22.13696695]), array([13.97997842, 19.22697784]), array([14.81602056, 19.06384512]), array([14.20233924, 18.32501864]), array([12.66528959, 20.48155   ]), array([14.73194222, 20.45605705]), array([13.87782736, 19.98358507]), array([26.19967992, 24.19759318]), array([27.00393698, 21.3774308 ]), array([26.98440266, 22.75538867]), array([25.98339669, 23.75214724]), array([27.69131821, 24.07175107]), array([25.82110117, 22.83125858]), array([26.99158212, 24.11601608]), array([26.18114445, 22.95481198]), array([25.55398372, 21.94426433]), array([27.47284451, 24.49671098]), array([55.85014573, 38.24347725]), array([55.84990531, 40.42663357]), array([55.45268366, 40.45324066]), array([52.8687646 , 39.71049951]), array([55.57555677, 38.58958966]), array([55.58027048, 36.90102809]), array([55.26883782, 39.24570958]), array([56.96640375, 38.37032679]), array([54.6800161 , 38.38683996]), array([56.40391182, 39.21734812])]\n"
     ]
    }
   ],
   "source": [
    "incremental_clustering = IncrClustering(k=4, random_state=42)\n",
    "T = incremental_clustering.Candidates(X)\n",
    "print(len(T))\n"
   ]
  }
 ],
 "metadata": {
  "kernelspec": {
   "display_name": "base",
   "language": "python",
   "name": "python3"
  },
  "language_info": {
   "codemirror_mode": {
    "name": "ipython",
    "version": 3
   },
   "file_extension": ".py",
   "mimetype": "text/x-python",
   "name": "python",
   "nbconvert_exporter": "python",
   "pygments_lexer": "ipython3",
   "version": "3.11.5"
  }
 },
 "nbformat": 4,
 "nbformat_minor": 2
}
