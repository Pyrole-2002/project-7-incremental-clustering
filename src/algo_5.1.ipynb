{
 "cells": [
  {
   "cell_type": "markdown",
   "metadata": {},
   "source": [
    "### An incremental algorithm can find nice $k$-clusterings if allowed $2^k$ centers"
   ]
  },
  {
   "cell_type": "code",
   "execution_count": 3,
   "metadata": {},
   "outputs": [],
   "source": [
    "# import libraries\n",
    "import pandas as pd\n",
    "import numpy as np\n",
    "import seaborn as sns\n",
    "import matplotlib.pyplot as plt\n",
    "%matplotlib inline\n",
    "from sklearn.decomposition import PCA\n",
    "from scipy.cluster.hierarchy import linkage, fcluster\n"
   ]
  },
  {
   "cell_type": "code",
   "execution_count": 165,
   "metadata": {},
   "outputs": [],
   "source": [
    "# unique nice clustering dataset\n",
    "def unique_nice_clustered_data(k=4, dim=2, cluster_size=25, seed=42):\n",
    "    np.random.seed(seed)\n",
    "    data = np.zeros((cluster_size * k, dim))\n",
    "    for k_i in range(1, k+1):\n",
    "        center = np.array([np.random.uniform(10*k_i, 15*k_i) for i in range(dim)])\n",
    "        # generate cluster_size points centered around center\n",
    "        data[(k_i - 1) * cluster_size:k_i * cluster_size, :] = center + np.random.randn(cluster_size, dim)\n",
    "    return data\n"
   ]
  },
  {
   "cell_type": "code",
   "execution_count": 196,
   "metadata": {},
   "outputs": [
    {
     "data": {
      "image/png": "[encoded data removed]",
      "text/plain": [
       "<Figure size 640x480 with 1 Axes>"
      ]
     },
     "metadata": {},
     "output_type": "display_data"
    }
   ],
   "source": [
    "X = unique_nice_clustered_data(k=4, dim=2, cluster_size=20, seed=42)\n",
    "plt.scatter(X[:, 0], X[:, 1], s=5)\n",
    "plt.show()\n"
   ]
  },
  {
   "cell_type": "code",
   "execution_count": 246,
   "metadata": {},
   "outputs": [],
   "source": [
    "class DetectNiceClustering():\n",
    "    def __init__(self, k):\n",
    "        self.k = k\n",
    "\n",
    "    def Candidates(self, S):\n",
    "        # S is set of points in X\n",
    "        # run single linkage on S to get a tree\n",
    "        # assign each leaf node the corresponding data point\n",
    "        # move bottom-up, assign each internal node the datapoint in one of its children\n",
    "        # return all points at a depth < k from the root\n",
    "        self.points = []\n",
    "        S = np.array(S)\n",
    "        Z = linkage(S, method='single', metric='euclidean')\n",
    "        self.merges = Z[:, :2].astype(int)\n",
    "        datasize = len(S)\n",
    "        # list of internal nodes\n",
    "        self.internal_assignment = [i for i in range(0, datasize)]\n",
    "        for i in range(0, len(self.merges)):\n",
    "            self.internal_assignment.append(self.internal_assignment[self.merges[i][0]])\n",
    "        self.traverse(\n",
    "            self.merges[-1][0],\n",
    "            self.merges[-1][1],\n",
    "            self.k - 1,\n",
    "            datasize\n",
    "        )\n",
    "        return S[self.points]\n",
    "\n",
    "    def traverse(self, p1, p2, k, datasize):\n",
    "        if k == 1:\n",
    "            # if k==1, add the children\n",
    "            self.points.append(self.internal_assignment[p1])\n",
    "            self.points.append(self.internal_assignment[p2])\n",
    "            return\n",
    "        if p1 < datasize:\n",
    "            # if p1 is a leaf, add it\n",
    "            self.points.append(self.internal_assignment[p1])\n",
    "        else:\n",
    "            # else, traverse the tree\n",
    "            self.traverse(\n",
    "                self.merges[p1-datasize][0],\n",
    "                self.merges[p1-datasize][1],\n",
    "                k - 1,\n",
    "                datasize\n",
    "            )\n",
    "        if p2 < datasize:\n",
    "            # if p2 is a leaf, add it\n",
    "            self.points.append(self.internal_assignment[p2])\n",
    "        else:\n",
    "            # else, traverse the tree\n",
    "            self.traverse(\n",
    "                self.merges[p2-datasize][0],\n",
    "                self.merges[p2-datasize][1],\n",
    "                k - 1,\n",
    "                datasize\n",
    "            )\n",
    "\n",
    "    def detect_niceness(self, X):\n",
    "        self.T = []\n",
    "        self.T.append([]) # T[0] is empty\n",
    "        datasize = len(X)\n",
    "        flag = True\n",
    "        for t in range(1, datasize):\n",
    "            xt = X[t]\n",
    "            self.T.append(self.T[t-1] + [xt])\n",
    "            if len(self.T[t]) > 2**(self.k-1):\n",
    "                self.T[t] = self.Candidates(self.T[t])\n",
    "            if len(self.T[t]) > 2**(self.k-1):\n",
    "                flag = False\n",
    "                break\n",
    "        if flag:\n",
    "            print(f\"Nice {self.k}-clustering detected\")\n",
    "        else:\n",
    "            print(f\"Nice {self.k}-clustering not detected\")\n"
   ]
  },
  {
   "cell_type": "code",
   "execution_count": 247,
   "metadata": {},
   "outputs": [
    {
     "name": "stdout",
     "output_type": "stream",
     "text": [
      "8\n",
      "Nice 4-clustering detected\n"
     ]
    }
   ],
   "source": [
    "detect_nice_clustering = DetectNiceClustering(k=4)\n",
    "candidates = detect_nice_clustering.Candidates(X)\n",
    "print(len(candidates))\n",
    "detect_nice_clustering.detect_niceness(X)\n"
   ]
  },
  {
   "cell_type": "code",
   "execution_count": 248,
   "metadata": {},
   "outputs": [
    {
     "data": {
      "image/png": "[encoded data removed]",
      "text/plain": [
       "<Figure size 640x480 with 1 Axes>"
      ]
     },
     "metadata": {},
     "output_type": "display_data"
    }
   ],
   "source": [
    "# plot the candidates\n",
    "plt.scatter(candidates[:, 0], candidates[:, 1], s=70, c='r')\n",
    "plt.scatter(X[:, 0], X[:, 1], s=5)\n",
    "plt.legend(['candidates', 'all points'])\n",
    "plt.show()\n"
   ]
  }
 ],
 "metadata": {
  "kernelspec": {
   "display_name": "base",
   "language": "python",
   "name": "python3"
  },
  "language_info": {
   "codemirror_mode": {
    "name": "ipython",
    "version": 3
   },
   "file_extension": ".py",
   "mimetype": "text/x-python",
   "name": "python",
   "nbconvert_exporter": "python",
   "pygments_lexer": "ipython3",
   "version": "3.11.5"
  }
 },
 "nbformat": 4,
 "nbformat_minor": 2
}
